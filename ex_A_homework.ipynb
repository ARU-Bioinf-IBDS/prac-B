{
 "cells": [
  {
   "cell_type": "markdown",
   "metadata": {},
   "source": [
    "# homework A: handling sequences in Python\n",
    "\n",
    "Make sure you have worked through [workbook A](./workbook_handling_sequences_in_strings.ipynb)\n",
    "\n",
    "## A1 Complementing DNA\n",
    "\n",
    "In the workbook we saw how double stranded DNA has two complementary strands<img src=\"https://upload.wikimedia.org/wikipedia/commons/e/e4/DNA_chemical_structure.svg\" \n",
    "align=\"left\" width=300> \n",
    "```\n",
    "\n",
    "\n",
    "\n",
    "```\n",
    "**Chemical Diagram of DNA**:  Showing two complimentary strands of 4 base pairs.\n",
    "[Image from Wikimedia Commons](https://commons.wikimedia.org/wiki/File:DNA_chemical_structure.svg) by Madeleine Price Ball, Licensed under [Creative Commons](https://en.wikipedia.org/wiki/en:Creative_Commons) [Attribution-Share Alike 3.0 Unported](https://creativecommons.org/licenses/by-sa/3.0/deed.en) license."
   ]
  },
  {
   "cell_type": "markdown",
   "metadata": {
    "collapsed": true
   },
   "source": [
    "The DNA sequence of the left hand strand is: ACTG. The complementary strand is found by replacing A with T, C with G, G with C and T with A:\n",
    "```\n",
    "left hand strand:     ACTG\n",
    "complementary strand: TGAC\n",
    "```\n",
    "Note that the complementary strand is listed from the 3' to the 5' end."
   ]
  },
  {
   "cell_type": "code",
   "execution_count": null,
   "metadata": {
    "collapsed": true
   },
   "outputs": [],
   "source": [
    "# Instruction: write python code to find the complementary \n",
    "# strand of dna from the dna variable and store it as complement. \n",
    "dna = 'ATGC'\n",
    "complement = '' # replace this line!\n",
    "# add more code here\n",
    "\n",
    "print(complement)\n",
    "# next line checks answer!\n",
    "assert complement == 'TACG', 'error complement not worked out correctly!'"
   ]
  },
  {
   "cell_type": "markdown",
   "metadata": {},
   "source": [
    "Now check you code works by considering the first part of the DNA sequence shown below:\n",
    "<img src=\"../images/Diagram_showing_a_double_helix_of_a_chromosome_CRUK_065_with_ends_marked.svg\" width=200/>\n",
    "```\n",
    "\n",
    "\n",
    "```\n",
    "**The DNA double helix**.  [Wikimedia Commons SVG diagram](https://commons.wikimedia.org/wiki/File:Diagram_showing_a_double_helix_of_a_chromosome_CRUK_065.svg) by Cancer Research UK, Licensed under [Creative Commons](https://en.wikipedia.org/wiki/en:Creative_Commons) [Attribution-Share Alike 4.0 International](https://creativecommons.org/licenses/by-sa/4.0/deed.en) license."
   ]
  },
  {
   "cell_type": "code",
   "execution_count": null,
   "metadata": {
    "collapsed": true
   },
   "outputs": [],
   "source": [
    "dna = 'AGTCGAC'\n",
    "# Instruction: \n",
    "complement_by_hand = 'work this out by hand'\n",
    "\n",
    "# Instruction: copy your python code for the complement here\n",
    "\n",
    "\n",
    "assert complement == complement_by_hand, 'error complement check fails!'"
   ]
  },
  {
   "cell_type": "markdown",
   "metadata": {},
   "source": [
    "Now lets get fancy and print out the DNA strand and its complement showing it is complementary:\n",
    "\n",
    "For `dna = 'AGTCGAC'` we want a print out\n",
    "```\n",
    "5'-AGTCGAC-3'\n",
    "3'-TCAGCTA-5'\n",
    "```"
   ]
  },
  {
   "cell_type": "code",
   "execution_count": null,
   "metadata": {
    "collapsed": true
   },
   "outputs": [],
   "source": [
    "dna = 'AAACCCGGGTTT'\n",
    "# Instruction: your code for complement\n",
    "\n",
    "# Instruction: your code for the fancy print out"
   ]
  },
  {
   "cell_type": "markdown",
   "metadata": {},
   "source": [
    "Now lets get even fancier and add vertical bars to show the complementarity in the printout\n",
    "```\n",
    "5'-AGTCGAC-3'\n",
    "   |||||||\n",
    "3'-TCAGCTA-5'\n",
    "```"
   ]
  },
  {
   "cell_type": "code",
   "execution_count": null,
   "metadata": {
    "collapsed": true
   },
   "outputs": [],
   "source": [
    "dna = 'A'*5 + 'G'*5 + 'C'*10 + 'T'*7\n",
    "\n",
    "# Instruction: your code for the even fancier print out"
   ]
  },
  {
   "cell_type": "markdown",
   "metadata": {},
   "source": [
    "Note we have not yet learnt how to reverse a string. In the next exercise we will explore how to work out the reverse complement."
   ]
  }
 ],
 "metadata": {
  "kernelspec": {
   "display_name": "Python 3",
   "language": "python",
   "name": "python3"
  },
  "language_info": {
   "codemirror_mode": {
    "name": "ipython",
    "version": 3
   },
   "file_extension": ".py",
   "mimetype": "text/x-python",
   "name": "python",
   "nbconvert_exporter": "python",
   "pygments_lexer": "ipython3",
   "version": "3.6.3"
  }
 },
 "nbformat": 4,
 "nbformat_minor": 2
}
