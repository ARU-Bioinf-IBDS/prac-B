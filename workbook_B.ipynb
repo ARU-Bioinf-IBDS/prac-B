{
 "cells": [
  {
   "cell_type": "markdown",
   "metadata": {},
   "source": [
    "# Workbook B: handling sequences in strings"
   ]
  },
  {
   "cell_type": "markdown",
   "metadata": {
    "collapsed": true
   },
   "source": [
    "This activity builds on the Python you have become familiar with in *Chapter 1 Python Basics* from the [DataCamp online course *Intro to Python for Data Science*](https://www.datacamp.com/courses/intro-to-python-for-data-science). We will use what you have learnt there to explore how biological sequence data can be handled in Python."
   ]
  },
  {
   "cell_type": "markdown",
   "metadata": {},
   "source": [
    "> ### Reminder: saving your work\n",
    ">\n",
    "> As you work through the work book it is important to regularly save your work. Notice that as you have made  changes the Jupyter window top line will warn you there are `(unsaved changes)` in small text. To save your work in this notebook by either select menu item `File` `Save` or by hit the save button:\n",
    "> <!-- relative image stop working in Azure notebook so use link to GitHub version! -->\n",
    "> <img src=\"https://raw.githubusercontent.com/ARU-Bioinf-IBDS/prac-B/master/images/save_button.png\"/>\n",
    ">\n",
    "> \n",
    "> ### Reminder: getting help \n",
    "> Please see the page:\n",
    "> [Help with programming](https://canvas.anglia.ac.uk/courses/1490/pages/help-with-programming)\n",
    "> on ARU Canvas."
   ]
  },
  {
   "cell_type": "markdown",
   "metadata": {},
   "source": [
    "## DNA sequence\n",
    "\n",
    "If you are unfamilar with DNA then first look at the excellent \n",
    "YouTube video [DNA Structure by Teacher's Pet](https://youtu.be/C1CRrtkWwu0).\n",
    "\n",
    "DNA is the molecule that lies at the centre of understanding of how genes are passed on to descendants, how proteins are made, and consequently how cells work. DNA forms strands that are polymer of nucleotides joined together. Each nucleotide has a phosphate-deoxyribose backbone that links to the adjacent nucleotides and has one of four bases:\n",
    "* Adenine (A),\n",
    "* Cytosine (C)\n",
    "* Guanine (G),\n",
    "* Thymine (T)\n",
    "DNA forms double helices in which two **complementary** DNA strands associate forming hydrogen bonds:\n"
   ]
  },
  {
   "cell_type": "markdown",
   "metadata": {},
   "source": [
    "<img src=\"https://upload.wikimedia.org/wikipedia/commons/e/e4/DNA_chemical_structure.svg\" \n",
    "align=\"left\" width=300> \n",
    "```\n",
    "\n",
    "\n",
    "\n",
    "```\n",
    "**Chemical Diagram of DNA**:  Showing two complimentary strands of 4 base pairs.\n",
    "[Image from Wikimedia Commons](https://commons.wikimedia.org/wiki/File:DNA_chemical_structure.svg) by Madeleine Price Ball, Licensed under [Creative Commons](https://en.wikipedia.org/wiki/en:Creative_Commons) [Attribution-Share Alike 3.0 Unported](https://creativecommons.org/licenses/by-sa/3.0/deed.en) license."
   ]
  },
  {
   "cell_type": "markdown",
   "metadata": {},
   "source": [
    "The two strands then coil around each other to adopt the famous DNA double helix structure:\n",
    "\n",
    "<!-- Azure Notebook relative image has stopped working! -->\n",
    "<!-- <img src=\"./images/Diagram_showing_a_double_helix_of_a_chromosome_CRUK_065_with_ends_marked.svg\"/> -->\n",
    "<!-- so use ugly directly include svg -->\n",
    "<img src=\"data:image/svg+xml;base64,PD94bWwgdmVyc2lvbj0iMS4wIiBlbmNvZGluZz0idXRmLTgiIHN0YW5kYWxvbmU9InllcyI/Pgo8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%0D%0APSJtaWRkbGUiPjMK4oCZIGVuZDwvdGV4dD48L3N2Zz4=\">\n",
    "```\n",
    "\n",
    "\n",
    "```\n",
    "**The DNA double helix**.  [Wikimedia Commons SVG diagram](https://commons.wikimedia.org/wiki/File:Diagram_showing_a_double_helix_of_a_chromosome_CRUK_065.svg) by Cancer Research UK, Licensed under [Creative Commons](https://en.wikipedia.org/wiki/en:Creative_Commons) [Attribution-Share Alike 4.0 International](https://creativecommons.org/licenses/by-sa/4.0/deed.en) license."
   ]
  },
  {
   "cell_type": "markdown",
   "metadata": {},
   "source": [
    "## How to handle sequence information in Python?\n",
    "\n",
    "DNA sequence information can be seen to a long word of A, C, G and T letters. For instance the left hand strand of the double helical diagram above has a sequence starting: `AGTCGAC`. Notice that DNA strands have a direction and we list DNA sequences from the 5' end to the 3' end.\n",
    "\n",
    "In the DataCamp course Chapter 1 Python basics you have used Integer, Float, Boolean and String variables.\n",
    "\n",
    "Question which of these variable types is best suited to handle DNA sequence information?\n",
    "\n",
    "**Instruction: In the code cell replace the ? with your answer and run the cell.** *(If you cannot edit/run the cell then you will need to you need to load this workbook in Azure/Jupyter Notebook, go back to [Introducing Jupyter Notebooks](https://github.com/ARU-Bioinformatics/ibdsA-intro) Section.)*"
   ]
  },
  {
   "cell_type": "code",
   "execution_count": null,
   "metadata": {
    "collapsed": true
   },
   "outputs": [],
   "source": [
    "# Instruction: replace ? in the next line with your answer.\n",
    "print('? is the Python variable type best suited to handle DNA sequence information')"
   ]
  },
  {
   "cell_type": "markdown",
   "metadata": {},
   "source": [
    "The left hand strand of the Chemical Diagram of DNA above has a sequence: `ATCG` lets store this in a string and print it the sequence:"
   ]
  },
  {
   "cell_type": "code",
   "execution_count": null,
   "metadata": {
    "collapsed": true
   },
   "outputs": [],
   "source": [
    "# Instruction: run this cell\n",
    "dna_diagram_a = 'ATGC'\n",
    "print('The DNA sequence in the chemical diagram is ' + dna_diagram_a)"
   ]
  },
  {
   "cell_type": "markdown",
   "metadata": {},
   "source": [
    "The left hand strand of the double helical diagram above has a sequence starting: `AGTCGAC`. Store this in a string and print it out."
   ]
  },
  {
   "cell_type": "code",
   "execution_count": null,
   "metadata": {
    "collapsed": true
   },
   "outputs": [],
   "source": [
    "# Instruction: store the sequence from the second sequence\n",
    "dna_diagram_b = '***replace me with the sequence!***'\n",
    "# Instruction: add Python to print out dna_diagram_b\n",
    "\n",
    "# do not forget to run the cell!"
   ]
  },
  {
   "cell_type": "markdown",
   "metadata": {},
   "source": [
    "Now lets suppose that we want to work with a dna sequence that joins `dna_diagram_a` followed by `dna_diagram_b`."
   ]
  },
  {
   "cell_type": "code",
   "execution_count": null,
   "metadata": {
    "collapsed": true
   },
   "outputs": [],
   "source": [
    "# Instruction: revise next line so that dna_joined is joins dna_diagram_a followed by dna_diagram_b.\n",
    "dna_joined = '***replace me with python that joins the two python string variables!***'\n",
    "print('The joined DNA sequence is ' + dna_joined)"
   ]
  },
  {
   "cell_type": "markdown",
   "metadata": {},
   "source": [
    "Lets make up a longer DNA sequence lets say 20 `T` bases. Just like the `+` operator can be used to paste two strings together the * operator works on strings to create repeats: "
   ]
  },
  {
   "cell_type": "code",
   "execution_count": null,
   "metadata": {
    "collapsed": true
   },
   "outputs": [],
   "source": [
    "# Instruction: run this cell\n",
    "dna_twenty_ts = 20*'T'\n",
    "print(dna_twenty_ts)"
   ]
  },
  {
   "cell_type": "code",
   "execution_count": null,
   "metadata": {
    "collapsed": true
   },
   "outputs": [],
   "source": [
    "# Instruction: complete the next line to give a long DNA sequence \n",
    "# of 10 T's, followed by 30 G's followed by 27 A's\n",
    "dna_long = 'T'\n",
    "print('dna_long=' + dna_long)"
   ]
  },
  {
   "cell_type": "markdown",
   "metadata": {},
   "source": [
    "Ribonucleic acid (RNA) is another nucleic acid that has crucial roles in biology. RNA is similar to DNA in that it has a phosphate-sugar backbone to which bases are attached. RNA sequences are similar to DNA with adenine (A), cytosine (C) and guanine (G); but in place thymine is the (related) base uracil (U).\n",
    "\n",
    "Your task is to create a variable `rna_sequence` containing a sequence of RNA, with  at least 3 uracils (U) in it."
   ]
  },
  {
   "cell_type": "code",
   "execution_count": null,
   "metadata": {
    "collapsed": true
   },
   "outputs": [],
   "source": [
    "# Instruction: create a variable rna_sequence with at least 3 uracils in it\n",
    "\n",
    "# print out rna_sequence"
   ]
  },
  {
   "cell_type": "markdown",
   "metadata": {},
   "source": [
    "The next bit of Python checks:\n",
    "1. that you have created the variable rna_sequence\n",
    "2. that the variable rna_sequence is a string and contains only `AUCG` characters\n",
    "3. that the variable rna_sequence has at least 3 `U`s in it.\n",
    "\n",
    "If the checks are passed it will print out a message starting `Well done`"
   ]
  },
  {
   "cell_type": "code",
   "execution_count": null,
   "metadata": {
    "collapsed": true
   },
   "outputs": [],
   "source": [
    "# Instruction: run this cell to check your rna_sequence!\n",
    "\n",
    "# python code to check rna_sequence as described above\n",
    "# do not worry about understanding it yet - it just shows what can be done\n",
    "RNA = 'AUCG'\n",
    "def is_rna_seq(seq):\n",
    "    \"\"\" \n",
    "    checks whether input sequence seq is an RNA sequence\n",
    "    \n",
    "    returns True if it is and false if not\n",
    "    \"\"\"\n",
    "    if not isinstance(seq, str):\n",
    "        return False\n",
    "    for base in RNA:\n",
    "        seq = seq.replace(base,'')\n",
    "    if len(seq) > 0:\n",
    "        return False\n",
    "    else:\n",
    "        return True\n",
    "\n",
    "if 'rna_sequence' not in locals():\n",
    "    print('Error: rna_sequence variable has not been defined!')\n",
    "    print('Try again!')\n",
    "elif not is_rna_seq(rna_sequence):\n",
    "    print('Error: your rna_sequence variable contains something'\n",
    "          'other than ' + RNA + ' letters!')\n",
    "    print('Try again!')\n",
    "elif rna_sequence.count('U') < 3:\n",
    "    print(\"Error: your rna_sequence variable does not contain\"\n",
    "          \"at least 3 U's\")\n",
    "    print('Try again!')\n",
    "else:\n",
    "    print(\"Well done: your rna_sequence variable passes as \"\n",
    "          \"it contains at least 3 U's and nothing not allowed.\")"
   ]
  },
  {
   "cell_type": "markdown",
   "metadata": {},
   "source": [
    "## Finding the length of a string with the ` len()` function\n",
    "So far we have not learnt enough to be able to do anything interesting with DNA sequences. So we are going to jump ahead and learn about some Python function and methods that allow us to manipulate strings.\n",
    "\n",
    "The [`len()`](https://docs.python.org/3/library/functions.html#len) function allows us to find the length of a string (that is the number of characters in it):"
   ]
  },
  {
   "cell_type": "code",
   "execution_count": null,
   "metadata": {
    "collapsed": true
   },
   "outputs": [],
   "source": [
    "# Instruction: run this cell\n",
    "my_string = 'hello'\n",
    "len_my_string = len(my_string)\n",
    "print('the length of string \"'+ my_string + '\" is ' + str(len_my_string))"
   ]
  },
  {
   "cell_type": "markdown",
   "metadata": {},
   "source": [
    "Note that the `len()`  function returns an integer result and so we have used the `str()` function to be able to print it in a sentence."
   ]
  },
  {
   "cell_type": "code",
   "execution_count": null,
   "metadata": {
    "collapsed": true
   },
   "outputs": [],
   "source": [
    "# Instruction: print out the length of follow DNA sequences\n",
    "dna_diagram_a = 'ATGC'\n",
    "dna_long = 10*'T' + 30*'G' + 27*'A' + 13*'C'\n",
    "raise NotImplementedError(\"print length of dna_diagram_a\")\n",
    "raise NotImplementedError(\"print length of dna_long\")"
   ]
  },
  {
   "cell_type": "markdown",
   "metadata": {},
   "source": [
    "## Counting the number of occurences of a substring with `.count()` method\n",
    "A Python method is like a function but instead of being built into the Python language they belong to a particular object. For a great explanation of methods look again at the [Methods video](https://campus.datacamp.com/courses/intro-to-python-for-data-science/chapter-3-functions-and-packages?ex=5) from the DataCamp course. \n",
    "\n",
    "The string object has a method [`str.count()`](https://docs.python.org/3/library/stdtypes.html#str.count) that counts the number of occurences that a substring occurs in a string:"
   ]
  },
  {
   "cell_type": "code",
   "execution_count": null,
   "metadata": {
    "collapsed": true
   },
   "outputs": [],
   "source": [
    "# Instruction: run this cell to see how str.count works\n",
    "hello = 'Hello, world!'\n",
    "num_l = hello.count('l')\n",
    "print(\"There are \" + str(num_l) + \" 'l's in '\" + hello + \"'\")\n",
    "print(\"There are \" + str(hello.count('z')) + \" 'z's in '\" + hello + \"'\")\n",
    "print(\"There are \" + str(hello.count('world')) + \" 'world's in '\" + hello + \"'\")\n"
   ]
  },
  {
   "cell_type": "code",
   "execution_count": null,
   "metadata": {
    "collapsed": true
   },
   "outputs": [],
   "source": [
    "# Instruction: print out the number of 'G's in the following sequences\n",
    "dna_diagram_a = 'ATGC'\n",
    "dna_long = 10*'T' + 30*'G' + 27*'A' + 13*'C'\n",
    "\n",
    "raise NotImplementedError(\"print number of G's in dna_diagram_a\")\n",
    "raise NotImplementedError(\"print number of G's in dna_long\")\n",
    "\n",
    "# now print out the number of C's in each of sequences\n",
    "raise NotImplementedError(\"print number of C's in the two sequences\")\n",
    "\n",
    "# now find the number of G's plus the number of C's for each sequence and print it out.\n",
    "raise NotImplementedError(\"print #G + #C in the two sequences\")\n"
   ]
  },
  {
   "cell_type": "markdown",
   "metadata": {},
   "source": [
    "## Finding the percentage GC content in a DNA sequence\n",
    "DNAs with higher proportion of GC base pairs compared to AT have a higher melting temperature and parts of the genome with a higher GC content tend to code for proteins, see https://en.wikipedia.org/wiki/GC-content. \n",
    "\n",
    "Use the len() function and .count() method to find out the percentage GC content:\n",
    "\n",
    "$$\n",
    "percent_{GC} = 100*\\frac{N_G + N_C}{N_{total}}\n",
    "$$\n",
    "\n",
    "where $N_G$ is the number of G's in the sequence, $N_C$ is the number of C's in the sequence and $N_{total}$ is the total length of the sequence.\n"
   ]
  },
  {
   "cell_type": "code",
   "execution_count": null,
   "metadata": {
    "collapsed": true
   },
   "outputs": [],
   "source": [
    "# Instruction: write python code to assess and print out the percentage GC content for the following sequence\n",
    "dna = 'ATGC'\n",
    "raise NotImplementedError('work out %GC content of dna')"
   ]
  },
  {
   "cell_type": "code",
   "execution_count": null,
   "metadata": {
    "collapsed": true
   },
   "outputs": [],
   "source": [
    "# Instruction: write python code to assess and print out the percentage GC content for the following sequence\n",
    "dna = 'AGTCGAC'\n",
    "raise NotImplementedError('work out %GC content of dna')"
   ]
  },
  {
   "cell_type": "code",
   "execution_count": null,
   "metadata": {
    "collapsed": true
   },
   "outputs": [],
   "source": [
    "# Instruction: write python code to assess and print out the percentage GC content for the following sequence\n",
    "dna_long = 10*'T' + 30*'G' + 27*'A' + 17*'C'\n",
    "raise NotImplementedError('work out %GC content of dna_long')"
   ]
  },
  {
   "cell_type": "markdown",
   "metadata": {},
   "source": [
    "### printing percentages with a sensible number of decimal places.\n",
    "In the previous exercises you will have noticed that Python by default will print out all the decimal places it stores. For the percentages we have calculate one decimal place is enough."
   ]
  },
  {
   "cell_type": "code",
   "execution_count": null,
   "metadata": {
    "collapsed": true
   },
   "outputs": [],
   "source": [
    "# run this cell to see how the string format method can be used to print numbers to 2 s.f\n",
    "decimal = 17./87.\n",
    "print('decimal default print: ' + str(decimal))\n",
    "print('decimal using a format to 2 decimal places: {:.2f}'.format(decimal))\n"
   ]
  },
  {
   "cell_type": "code",
   "execution_count": null,
   "metadata": {
    "collapsed": true
   },
   "outputs": [],
   "source": [
    "# Instruction: write python code to assess and print out the \n",
    "# percentage GC content for the following sequence to one decimal place\n",
    "dna = 'AGTCGAC'\n",
    "raise NotImplementedError('work out %GC content and print to 1 d.p')"
   ]
  },
  {
   "cell_type": "markdown",
   "metadata": {},
   "source": [
    "## changing the case of a string with .upper() and .lower() methods\n",
    "this is pretty straigtforward. To get a new string that is all upper case (so that `a` is changed to `A`, `b` to `B` etc.) use the [`str.upper()`](https://docs.python.org/3/library/stdtypes.html#str.upper) method:"
   ]
  },
  {
   "cell_type": "code",
   "execution_count": null,
   "metadata": {
    "collapsed": true
   },
   "outputs": [],
   "source": [
    "# run this cell to see how str.upper() works\n",
    "hello = 'Hello, world!'\n",
    "hello_upper = hello.upper()\n",
    "print('hello=' + hello)\n",
    "print('hello_upper=' + hello_upper)\n",
    "print('hello.upper()=' + hello.upper())"
   ]
  },
  {
   "cell_type": "markdown",
   "metadata": {},
   "source": [
    "Note that calling the `my_string.upper()` returns a new string that is an upper case version of `my_string`, leaving the original version unchanged.\n",
    "\n",
    "str.lower() is like str.upper() but lowers the case (so that `A` is changed to `a`, `B` to `b` etc.)"
   ]
  },
  {
   "cell_type": "code",
   "execution_count": null,
   "metadata": {
    "collapsed": true
   },
   "outputs": [],
   "source": [
    "# Instruction: write python code to print out the DNA sequence in lower case\n",
    "dna = 'AGTCGAC'\n",
    "raise NotImplementedError('print out dna in lower case')"
   ]
  },
  {
   "cell_type": "markdown",
   "metadata": {},
   "source": [
    "## replacing substrings with `.replace()` method\n",
    "The [`str.replace()`](https://docs.python.org/3/library/stdtypes.html#str.replace) string method: takes two arguments:\n",
    "```python\n",
    "str.replace(old, new)\n",
    "```\n",
    "has two arguments `old` and `new`, that are both strings. It returns a copy of the string `str` in which all occurences of `old` have been replaced by `new`:"
   ]
  },
  {
   "cell_type": "code",
   "execution_count": null,
   "metadata": {
    "collapsed": true
   },
   "outputs": [],
   "source": [
    "# Instruction: run this cell to see how the str.replace(old, new) method works\n",
    "hello = 'Hello, world!'\n",
    "replace_l_with_r = hello.replace('l','r')\n",
    "print('hello=' + hello)\n",
    "print('N.B. replace does not alter the string it is run on!')\n",
    "print(\"hello.replace('l','r')=\" + replace_l_with_r)\n",
    "first_pet = 'My first pet was a dog.'\n",
    "print(first_pet.replace('dog', 'cat'))"
   ]
  },
  {
   "cell_type": "markdown",
   "metadata": {},
   "source": [
    "## Highlighting a TATA box \n",
    "\n",
    "The TATA box is a characteristic non-coding DNA sequence that occurs before a coding gene and indicates where transcription by RNA polymerase should begin (see https://www.nature.com/scitable/definition/tata-box-313). Finding TATA boxes is therefore pretty important. The TATA box motif has the sequence:\n",
    "```\n",
    "TATAAA\n",
    "```\n"
   ]
  },
  {
   "cell_type": "markdown",
   "metadata": {},
   "source": [
    "<!-- relative image stop working in Azure notebook so use link to GitHub version! -->\n",
    "<!-- <img src=\"./images/crop_1cdw_deposited_chemically_distinct_molecules_side_image-800x800.png\" width=300\n",
    "     alt='image of PDB entry 1cdw'/> -->\n",
    "<img src=\"https://raw.githubusercontent.com/ARU-Bioinf-IBDS/prac-B/master/images/crop_1cdw_deposited_chemically_distinct_molecules_side_image-800x800.png\" \n",
    "     width=300 alt='image of PDB entry 1cdw'/>\n",
    "**X-ray crystal structure PDB entry [1cdw](http://pdbe.org/1cdw) shows how the TATA-binding protein (blue) binds to DNA containing the TATA binding box (yellow/green)** Image from PDBe page http://pdbe.org/1cdw, used here with permission. For more more information see [PDB-101: TATA binding protein](http://pdb101.rcsb.org/motm/67)."
   ]
  },
  {
   "cell_type": "markdown",
   "metadata": {},
   "source": [
    "The sequence of a short DNA molecule used in the 3D structure [1cdw](http://pdbe.org/1cdw) of the TATA-binding protein  is\n",
    "```\n",
    "CTGCTATAAAAGGCTG\n",
    "```\n",
    "Your task is write python to:\n",
    "(a) count the number of TATA box motifs in sequence `dna` and print this out\n",
    "(b) convert the  sequence `dna` to lower case then make TATA motif upper case - and print out the sequence"
   ]
  },
  {
   "cell_type": "code",
   "execution_count": null,
   "metadata": {
    "collapsed": true
   },
   "outputs": [],
   "source": [
    "tata_box = 'TATAAA'\n",
    "dna = 'CTGCTATAAAAGGCTG'\n",
    "# Instruction: replace next line with code to count the \n",
    "# number TATA box motifs and print this out\n",
    "raise NotImplementedError('count number TATA box motifs and print out')\n",
    "# Instruction: add code to convert dna sequence lower case\n",
    "# except for TATA box motif that should be upper case\n",
    "raise NotImplementedError('convert dna to lowercase')\n",
    "raise NotImplementedError('in lower case dna replace tataaa with TATAAA')\n",
    "raise NotImplementedError('print out sequence with highlighted tata box')"
   ]
  },
  {
   "cell_type": "markdown",
   "metadata": {
    "collapsed": true
   },
   "source": [
    "## Homework B: handling sequences in strings\n",
    "* Now go on and use strings and the string functions and methods introduced here to complete the homework B notebook"
   ]
  }
 ],
 "metadata": {
  "kernelspec": {
   "display_name": "Python 3",
   "language": "python",
   "name": "python3"
  },
  "language_info": {
   "codemirror_mode": {
    "name": "ipython",
    "version": 3
   },
   "file_extension": ".py",
   "mimetype": "text/x-python",
   "name": "python",
   "nbconvert_exporter": "python",
   "pygments_lexer": "ipython3",
   "version": "3.7.1"
  }
 },
 "nbformat": 4,
 "nbformat_minor": 2
}
