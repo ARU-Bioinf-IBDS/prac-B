{
 "cells": [
  {
   "cell_type": "markdown",
   "metadata": {},
   "source": [
    "# Workbook A: handling sequences in strings"
   ]
  },
  {
   "cell_type": "markdown",
   "metadata": {
    "collapsed": true
   },
   "source": [
    "This activity builds on the Python you have become familiar with in Chapter 1 Python Basics from the [DataCamp online course *Intro to Python for Data Science*](https://www.datacamp.com/courses/intro-to-python-for-data-science). We will use what you have learnt there to explore how biological sequence data can be handled in Python."
   ]
  },
  {
   "cell_type": "markdown",
   "metadata": {},
   "source": [
    "> ### Reminder: saving your work\n",
    ">\n",
    "> As you work through the work book it is important to regularly save your work. Notice that as you have made  changes the Jupyter window top line will warn you there are `(unsaved changes)` in small text. To save your work in this notebook by either select menu item `File` `Save` or by hit the save button:\n",
    "> \n",
    "> <img src=\"./images/save_button.png\"/>\n",
    ">\n",
    "> \n",
    "> ### Reminder: getting help \n",
    "> Please see the page:\n",
    "> [Help with programming](https://canvas.anglia.ac.uk/courses/1490/pages/help-with-programming)\n",
    "> on ARU Canvas."
   ]
  },
  {
   "cell_type": "markdown",
   "metadata": {},
   "source": [
    "## DNA sequence\n",
    "DNA is the molecule that lies at the centre of understanding of how genes are passed on to descendents, how proteins are made, and consequently how the working of cells. DNA forms strands that are polymer of nucleotides joined together. Each nucleotide has a phosphate-deoxyribose backbone that links to the adjacent nucleotides and has one of four bases:\n",
    "* Adenine (A),\n",
    "* Cytosine (C)\n",
    "* Guanine (G),\n",
    "* Thymine (T)\n",
    "DNA forms double helices in which two **complementary** DNA strands associate forming hydrogen bonds:\n"
   ]
  },
  {
   "cell_type": "markdown",
   "metadata": {},
   "source": [
    "<img src=\"https://upload.wikimedia.org/wikipedia/commons/e/e4/DNA_chemical_structure.svg\" \n",
    "align=\"left\" width=300> \n",
    "```\n",
    "\n",
    "\n",
    "\n",
    "```\n",
    "**Chemical Diagram of DNA**:  Showing two complimentary strands of 4 base pairs.\n",
    "[Image from Wikimedia Commons](https://commons.wikimedia.org/wiki/File:DNA_chemical_structure.svg) by Madeleine Price Ball, Licensed under [Creative Commons](https://en.wikipedia.org/wiki/en:Creative_Commons) [Attribution-Share Alike 3.0 Unported](https://creativecommons.org/licenses/by-sa/3.0/deed.en) license."
   ]
  },
  {
   "cell_type": "markdown",
   "metadata": {},
   "source": [
    "The two strands then coil around each other to adopt the famous DNA double helix structure:\n",
    "\n",
    "<img src=\"./images/Diagram_showing_a_double_helix_of_a_chromosome_CRUK_065_with_ends_marked.svg\"/>\n",
    "```\n",
    "\n",
    "\n",
    "```\n",
    "**The DNA double helix**.  [Wikimedia Commons SVG diagram](https://commons.wikimedia.org/wiki/File:Diagram_showing_a_double_helix_of_a_chromosome_CRUK_065.svg) by Cancer Research UK, Licensed under [Creative Commons](https://en.wikipedia.org/wiki/en:Creative_Commons) [Attribution-Share Alike 4.0 International](https://creativecommons.org/licenses/by-sa/4.0/deed.en) license."
   ]
  },
  {
   "cell_type": "markdown",
   "metadata": {},
   "source": [
    "## How to handle sequence information in Python?\n",
    "\n",
    "DNA sequence information can be seen to a long word of A, C, G and T letters. For instance the left hand strand of the double helical diagram above has a sequence starting: `AGTCGAC`. Notice that DNA strands have a direction and we list DNA sequences from the 5' end to the 3' end.\n",
    "\n",
    "In the DataCamp course Chapter 1 Python basics you have used Integer, Float, Boolean and String variables.\n",
    "\n",
    "Question which of these variable types is best suited to handle DNA sequence information?\n",
    "\n",
    "**Instruction: In the code cell replace the ? with your answer and run the cell.** *(If you cannot edit/run the cell then you will need to you need to load this workbook in Azure/Jupyter Notebook, go back to [Introducing Jupyter Notebooks](https://github.com/ARU-Bioinformatics/ibdsA-intro) Section.)*"
   ]
  },
  {
   "cell_type": "code",
   "execution_count": null,
   "metadata": {
    "collapsed": true
   },
   "outputs": [],
   "source": [
    "# Instruction: replace ? in the next line with your answer.\n",
    "print('? is the Python variable type best suited to handle DNA sequence information')"
   ]
  },
  {
   "cell_type": "markdown",
   "metadata": {},
   "source": [
    "The left hand strand of the Chemical Diagram of DNA above has a sequence: `ATCG` lets store this in a string and print it the sequence:"
   ]
  },
  {
   "cell_type": "code",
   "execution_count": null,
   "metadata": {
    "collapsed": true
   },
   "outputs": [],
   "source": [
    "# Instruction: run this cell\n",
    "dna_diagram_a = 'ATGC'\n",
    "print('The DNA sequence in the chemical diagram is ' + dna_diagram_a)"
   ]
  },
  {
   "cell_type": "markdown",
   "metadata": {},
   "source": [
    "The left hand strand of the double helical diagram above has a sequence starting: `AGTCGAC`. Store this in a string and print it out."
   ]
  },
  {
   "cell_type": "code",
   "execution_count": null,
   "metadata": {
    "collapsed": true
   },
   "outputs": [],
   "source": [
    "# Instruction: print out the sequence from the second sequence\n",
    "dna_diagram_b = '***replace me with the sequence!***'"
   ]
  },
  {
   "cell_type": "markdown",
   "metadata": {},
   "source": [
    "Now lets suppose that we want to work with a dna sequence that joins `dna_diagram_a` followed by `dna_diagram_b`."
   ]
  },
  {
   "cell_type": "code",
   "execution_count": null,
   "metadata": {
    "collapsed": true
   },
   "outputs": [],
   "source": [
    "# Instruction: revise next line so that dna_joined is joins dna_diagram_a followed by dna_diagram_b.\n",
    "dna_joined = '***replace me with python that joins the two python string variables!***'\n",
    "print('The joined DNA sequence is ' + dna_joined)"
   ]
  },
  {
   "cell_type": "markdown",
   "metadata": {},
   "source": [
    "Lets make up a longer DNA sequence lets say 20 `T` bases. Just like the `+` operator can be used to paste two strings together the * operator works on strings to create repeats: "
   ]
  },
  {
   "cell_type": "code",
   "execution_count": null,
   "metadata": {
    "collapsed": true
   },
   "outputs": [],
   "source": [
    "# Instruction: run this cell\n",
    "dna_twenty_ts = 20*'T'\n",
    "print(dna_twenty_ts)"
   ]
  },
  {
   "cell_type": "code",
   "execution_count": null,
   "metadata": {
    "collapsed": true
   },
   "outputs": [],
   "source": [
    "# Instruction: complete the next line to give a long DNA sequence \n",
    "# of 10 T's, followed by 30 G's followed by 27 A's\n",
    "dna_long = 'T'\n",
    "print('dna_long=' + dna_long)"
   ]
  },
  {
   "cell_type": "markdown",
   "metadata": {},
   "source": [
    "## Finding the length of a string with the ` len()` function\n",
    "So far we have not learnt enough to be able to do anything interesting with DNA sequences. So we are going to jump ahead and learn about some Python function and methods that allow us to manipulate strings.\n",
    "\n",
    "The [`len()`](https://docs.python.org/3/library/functions.html#len) function allows us to find the length of a string (that is the number of characters in it):"
   ]
  },
  {
   "cell_type": "code",
   "execution_count": null,
   "metadata": {
    "collapsed": true
   },
   "outputs": [],
   "source": [
    "# Instruction: run this cell\n",
    "my_string = 'hello'\n",
    "len_my_string = len(my_string)\n",
    "print('the length of string \"'+ my_string + '\" is ' + str(len_my_string))"
   ]
  },
  {
   "cell_type": "markdown",
   "metadata": {},
   "source": [
    "Note that the `len()`  function returns an integer result and so we have used the `str()` function to be able to print it in a sentence."
   ]
  },
  {
   "cell_type": "code",
   "execution_count": null,
   "metadata": {
    "collapsed": true
   },
   "outputs": [],
   "source": [
    "# Instruction: print out the length of follow DNA sequences\n",
    "dna_diagram_a = 'ATGC'\n",
    "dna_long = 10*'T' + 30*'G' + 27*'A' + 13*'C'\n",
    "raise NotImplementedError(\"print length of dna_diagram_a\")\n",
    "raise NotImplementedError(\"print length of dna_long\")"
   ]
  },
  {
   "cell_type": "markdown",
   "metadata": {},
   "source": [
    "## Counting the number of occurences of a substring with `.count()` method\n",
    "A Python method is like a function but instead of being built into the Python language they belong to a particular object. For a great explanation of methods look again at the [Methods video](https://campus.datacamp.com/courses/intro-to-python-for-data-science/chapter-3-functions-and-packages?ex=5) from the DataCamp course. \n",
    "\n",
    "The string object has a method [`str.count()`](https://docs.python.org/3/library/stdtypes.html#str.count) that counts the number of occurences that a substring occurs in a string:"
   ]
  },
  {
   "cell_type": "code",
   "execution_count": null,
   "metadata": {
    "collapsed": true
   },
   "outputs": [],
   "source": [
    "# Instruction: run this cell to see how str.count works\n",
    "hello = 'Hello, world!'\n",
    "num_l = hello.count('l')\n",
    "print(\"There are \" + str(num_l) + \" 'l's in '\" + hello + \"'\")\n",
    "print(\"There are \" + str(hello.count('z')) + \" 'z's in '\" + hello + \"'\")\n",
    "print(\"There are \" + str(hello.count('world')) + \" 'world's in '\" + hello + \"'\")\n"
   ]
  },
  {
   "cell_type": "code",
   "execution_count": null,
   "metadata": {
    "collapsed": true
   },
   "outputs": [],
   "source": [
    "# Instruction: print out the number of 'G's in the following sequences\n",
    "dna_diagram_a = 'ATGC'\n",
    "dna_long = 10*'T' + 30*'G' + 27*'A' + 13*'C'\n",
    "\n",
    "raise NotImplementedError(\"print number of G's in dna_diagram_a\")\n",
    "raise NotImplementedError(\"print number of G's in dna_long\")\n",
    "\n",
    "# now print out the number of C's in each of sequences\n",
    "raise NotImplementedError(\"print number of C's in the two sequences\")\n",
    "\n",
    "# now find the number of G's plus the number of C's for each sequence and print it out.\n",
    "raise NotImplementedError(\"print #G + #C in the two sequences\")\n"
   ]
  },
  {
   "cell_type": "markdown",
   "metadata": {},
   "source": [
    "## Finding the percentage GC content in a DNA sequence\n",
    "DNAs with higher proportion of GC base pairs compared to AT have a higher melting temperature and parts of the genome with a higher GC content tend to code for proteins, see https://en.wikipedia.org/wiki/GC-content. \n",
    "\n",
    "Use the len() function and .count() method to find out the percentage GC content:\n",
    "\n",
    "$$\n",
    "percent_{GC} = 100*\\frac{N_G + N_C}{N_{total}}\n",
    "$$\n",
    "\n",
    "where $N_G$ is the number of G's in the sequence, $N_C$ is the number of C's in the sequence and $N_{total}$ is the total length of the sequence.\n"
   ]
  },
  {
   "cell_type": "code",
   "execution_count": null,
   "metadata": {
    "collapsed": true
   },
   "outputs": [],
   "source": [
    "# Instruction: write python code to assess and print out the percentage GC content for the following sequence\n",
    "dna = 'ATGC'\n",
    "raise NotImplementedError('work out %GC content of dna')"
   ]
  },
  {
   "cell_type": "code",
   "execution_count": null,
   "metadata": {
    "collapsed": true
   },
   "outputs": [],
   "source": [
    "# Instruction: write python code to assess and print out the percentage GC content for the following sequence\n",
    "dna = 'AGTCGAC'\n",
    "raise NotImplementedError('work out %GC content of dna')"
   ]
  },
  {
   "cell_type": "code",
   "execution_count": null,
   "metadata": {
    "collapsed": true
   },
   "outputs": [],
   "source": [
    "# Instruction: write python code to assess and print out the percentage GC content for the following sequence\n",
    "dna_long = 10*'T' + 30*'G' + 27*'A' + 17*'C'\n",
    "raise NotImplementedError('work out %GC content of dna_long')"
   ]
  },
  {
   "cell_type": "markdown",
   "metadata": {},
   "source": [
    "### printing percentages with a sensible number of decimal places.\n",
    "In the previous exercises you will have noticed that Python by default will print out all the decimal places it stores. For the percentages we have calculate one decimal place is enough."
   ]
  },
  {
   "cell_type": "code",
   "execution_count": null,
   "metadata": {
    "collapsed": true
   },
   "outputs": [],
   "source": [
    "# run this cell to see how the string format method can be used to print numbers to 2 s.f\n",
    "decimal = 17./87.\n",
    "print('decimal default print: ' + str(decimal))\n",
    "print('decimal using a format to 2 decimal places: {:.2f}'.format(decimal))\n"
   ]
  },
  {
   "cell_type": "code",
   "execution_count": null,
   "metadata": {
    "collapsed": true
   },
   "outputs": [],
   "source": [
    "# Instruction: write python code to assess and print out the \n",
    "# percentage GC content for the following sequence to one decimal place\n",
    "dna = 'AGTCGAC'\n",
    "raise NotImplementedError('work out %GC content and print to 1 d.p')"
   ]
  },
  {
   "cell_type": "markdown",
   "metadata": {},
   "source": [
    "## changing the case of a string with .upper() and .lower() methods\n",
    "this is pretty straigtforward. To get a new string that is all upper case (so that `a` is changed to `A`, `b` to `B` etc.) use the [`str.upper()`](https://docs.python.org/3/library/stdtypes.html#str.upper) method:"
   ]
  },
  {
   "cell_type": "code",
   "execution_count": null,
   "metadata": {
    "collapsed": true
   },
   "outputs": [],
   "source": [
    "# run this cell to see how str.upper() works\n",
    "hello = 'Hello, world!'\n",
    "hello_upper = hello.upper()\n",
    "print('hello=' + hello)\n",
    "print('hello_upper=' + hello_upper)\n",
    "print('hello.upper()=' + hello.upper())"
   ]
  },
  {
   "cell_type": "markdown",
   "metadata": {},
   "source": [
    "Note that calling the `my_string.upper()` returns a new string that is an upper case version of `my_string`, leaving the original version unchanged.\n",
    "\n",
    "str.lower() is like str.upper() but lowers the case (so that `A` is changed to `a`, `B` to `b` etc.)"
   ]
  },
  {
   "cell_type": "code",
   "execution_count": null,
   "metadata": {
    "collapsed": true
   },
   "outputs": [],
   "source": [
    "# Instruction: write python code to print out the DNA sequence in lower case\n",
    "dna = 'AGTCGAC'\n",
    "raise NotImplementedError('print out dna in lower case')"
   ]
  },
  {
   "cell_type": "markdown",
   "metadata": {},
   "source": [
    "## replacing substrings with `.replace()` method\n",
    "The [`str.replace()`](https://docs.python.org/3/library/stdtypes.html#str.replace) string method: takes two arguments:\n",
    "```python\n",
    "str.replace(old, new)\n",
    "```\n",
    "has two arguments `old` and `new`, that are both strings. It returns a copy of the string `str` in which all occurences of `old` have been replaced by `new`:"
   ]
  },
  {
   "cell_type": "code",
   "execution_count": null,
   "metadata": {
    "collapsed": true
   },
   "outputs": [],
   "source": [
    "# Instruction: run this cell to see how the str.replace(old, new) method works\n",
    "hello = 'Hello, world!'\n",
    "replace_l_with_r = hello.replace('l','r')\n",
    "print('hello=' + hello)\n",
    "print('N.B. replace does not alter the string it is run on!')\n",
    "print(\"hello.replace('l','r')=\" + replace_l_with_r)\n",
    "first_pet = 'My first pet was a dog.'\n",
    "print(first_pet.replace('dog', 'cat'))"
   ]
  },
  {
   "cell_type": "markdown",
   "metadata": {},
   "source": [
    "## Highlighting a TATA box \n",
    "\n",
    "The TATA box is a characteristic non-coding DNA sequence that occurs before a coding gene and indicates where transcription by RNA polymerase should begin (see https://www.nature.com/scitable/definition/tata-box-313). Finding TATA boxes is therefore pretty important. The TATA box motif has the sequence:\n",
    "```\n",
    "TATAAA\n",
    "```\n"
   ]
  },
  {
   "cell_type": "markdown",
   "metadata": {},
   "source": [
    "<img src=\"./images/crop_1cdw_deposited_chemically_distinct_molecules_side_image-800x800.png\" width=300\n",
    "     alt='image of PDB entry 1cdw'/> \n",
    "**X-ray crystal structure PDB entry [1cdw](http://pdbe.org/1cdw) shows how the TATA-binding protein (blue) binds to DNA containing the TATA binding box (yellow/green)** Image from PDBe page http://pdbe.org/1cdw, used here with permission. For more more information see [PDB-101: TATA binding protein](http://pdb101.rcsb.org/motm/67)."
   ]
  },
  {
   "cell_type": "markdown",
   "metadata": {},
   "source": [
    "The sequence of a short DNA molecule used in the 3D structure [1cdw](http://pdbe.org/1cdw) of the TATA-binding protein  is\n",
    "```\n",
    "CTGCTATAAAAGGCTG\n",
    "```\n",
    "Your task is write python to:\n",
    "(a) count the number of TATA box motifs in sequence `dna` and print this out\n",
    "(b) convert the  sequence `dna` to lower case then make TATA motif upper case - and print out the sequence"
   ]
  },
  {
   "cell_type": "code",
   "execution_count": null,
   "metadata": {
    "collapsed": true
   },
   "outputs": [],
   "source": [
    "tata_box = 'TATAAA'\n",
    "dna = 'CTGCTATAAAAGGCTG'\n",
    "# Instruction: replace next line with code to count the \n",
    "# number TATA box motifs and print this out\n",
    "raise NotImplementedError('count number TATA box motifs and print out')\n",
    "# Instruction: add code to convert dna sequence lower case\n",
    "# except for TATA box motif that should be upper case\n",
    "raise NotImplementedError('convert dna to lowercase')\n",
    "raise NotImplementedError('in lower case dna replace tataaa with TATAAA')\n",
    "raise NotImplementedError('print out sequence with highlighted tata box')"
   ]
  },
  {
   "cell_type": "markdown",
   "metadata": {
    "collapsed": true
   },
   "source": [
    "## Homework A: handling sequences in strings\n",
    "* Now go on and use strings and the string functions and methods introduced here to complete the [homework A](./ex_A_homework.ipynb)"
   ]
  }
 ],
 "metadata": {
  "kernelspec": {
   "display_name": "Python 3",
   "language": "python",
   "name": "python3"
  },
  "language_info": {
   "codemirror_mode": {
    "name": "ipython",
    "version": 3
   },
   "file_extension": ".py",
   "mimetype": "text/x-python",
   "name": "python",
   "nbconvert_exporter": "python",
   "pygments_lexer": "ipython3",
   "version": "3.6.3"
  }
 },
 "nbformat": 4,
 "nbformat_minor": 2
}
